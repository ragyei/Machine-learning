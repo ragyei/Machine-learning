{
  "nbformat": 4,
  "nbformat_minor": 0,
  "metadata": {
    "colab": {
      "provenance": [],
      "authorship_tag": "ABX9TyOB1KJEjrRy7zOHT/PA3Ws/",
      "include_colab_link": true
    },
    "kernelspec": {
      "name": "python3",
      "display_name": "Python 3"
    },
    "language_info": {
      "name": "python"
    }
  },
  "cells": [
    {
      "cell_type": "markdown",
      "metadata": {
        "id": "view-in-github",
        "colab_type": "text"
      },
      "source": [
        "<a href=\"https://colab.research.google.com/github/ragyei/Machine-learning/blob/master/NLP_tutorial_01.ipynb\" target=\"_parent\"><img src=\"https://colab.research.google.com/assets/colab-badge.svg\" alt=\"Open In Colab\"/></a>"
      ]
    },
    {
      "cell_type": "markdown",
      "source": [
        "Importing pdf, csv and text files "
      ],
      "metadata": {
        "id": "wWdee4KxiKqA"
      }
    },
    {
      "cell_type": "code",
      "source": [
        "# install pdf required modules\n",
        "!pip install PyPDF2"
      ],
      "metadata": {
        "colab": {
          "base_uri": "https://localhost:8080/"
        },
        "id": "M6tIkq0XiScI",
        "outputId": "85e72295-4cd1-42bf-d3aa-e975a6a1c305"
      },
      "execution_count": 4,
      "outputs": [
        {
          "output_type": "stream",
          "name": "stdout",
          "text": [
            "Looking in indexes: https://pypi.org/simple, https://us-python.pkg.dev/colab-wheels/public/simple/\n",
            "Collecting PyPDF2\n",
            "  Downloading pypdf2-3.0.1-py3-none-any.whl (232 kB)\n",
            "\u001b[2K     \u001b[90m━━━━━━━━━━━━━━━━━━━━━━━━━━━━━━━━━━━━━━━\u001b[0m \u001b[32m232.6/232.6 KB\u001b[0m \u001b[31m7.9 MB/s\u001b[0m eta \u001b[36m0:00:00\u001b[0m\n",
            "\u001b[?25hRequirement already satisfied: typing_extensions>=3.10.0.0 in /usr/local/lib/python3.8/dist-packages (from PyPDF2) (4.4.0)\n",
            "Installing collected packages: PyPDF2\n",
            "Successfully installed PyPDF2-3.0.1\n"
          ]
        }
      ]
    },
    {
      "cell_type": "code",
      "source": [
        "# Import the pdf file \n",
        "import PyPDF2"
      ],
      "metadata": {
        "id": "wAGGrdZ-ixgS"
      },
      "execution_count": 6,
      "outputs": []
    },
    {
      "cell_type": "code",
      "source": [
        "# Load the data (PDF)\n",
        "data =open('geo_pdf.pdf','rb')\n",
        "\n",
        "# Read the pdf \n",
        "reader = PyPDF2.PdfReader(data)\n",
        "\n",
        "# Printing the number of pages\n",
        "print(len(reader.pages))\n",
        "\n",
        "# Get the number an exact page \n",
        "get_page = reader.pages[0]\n",
        "\n",
        "# Extracting Text form page \n",
        "print(get_page.extract_text())\n",
        "\n",
        "# Close the data \n",
        "data.close()"
      ],
      "metadata": {
        "colab": {
          "base_uri": "https://localhost:8080/"
        },
        "id": "IbYVREhtjPs8",
        "outputId": "b40e4033-e29d-4439-c954-cc5194552e80"
      },
      "execution_count": 19,
      "outputs": [
        {
          "output_type": "stream",
          "name": "stdout",
          "text": [
            "12\n",
            "Particula: A simulator tool for computational rock physics of granular\n",
            "media\n",
            "Mustafa A. Al Ibrahim1, Abdulla Kerimov2, Tapan Mukerji3, and Gary Mavko2\n",
            "ABSTRACT\n",
            "Granular dynamics simulations provide insights to the con-\n",
            "tact-scale physics of loose sediments. However, simulations\n",
            "using identical spherical grains do not reflect characteristics\n",
            "observed in natural sediments, such as pack sorting, grading,grain sphericity, and grain roundness. We have developed\n",
            "software to create 3D grain packs of a range of regular and\n",
            "irregular shapes with geologically realistic variations in sort-ing and grading. An efficient approach is used to create multi-ple realizations of nonspherical irregularly shaped grains\n",
            "using coherent noise modification of the spherical grain sur-\n",
            "face. The discrete-element method is used to assemble thegrain pack with different depositional styles by letting grains\n",
            "fall under the influence of gravity. Characterization of various\n",
            "parameters of random loose and dense grain packs, and com-parison with previous studies, helps to establish the validity,\n",
            "flexibility, and consistency of the simulator. The output of this\n",
            "software is a digital grain pack, including metadata such ascontacts and coordinates, that can be studied further using\n",
            "other analysis tools, e.g., by conducting fluid flow, mechani-\n",
            "cal, or electrical simulations.\n",
            "INTRODUCTION\n",
            "Studies on granular media are essential for understanding a wide\n",
            "range of physical phenomena in sediments including flow, stress and\n",
            "strain, heat conduction, and electrical effects. Granular media are\n",
            "ubiquitous and play an important role in industry, mining, and geo-physics. Particularly in geophysics, the study of granular media isimportant because the physical properties of the grains and their ar-rangement, orientation, and size affect several processes and\n",
            "properties such as the (1) effective elastic moduli, which control seis-mic wave propagation (e.g., Paterson, 1956 ;Sain et al., 2016 ),\n",
            "(2) rock porosity and permeability, which control fluid flow (e.g.,Yin and Nur, 1993 ;Diyokeugwu and Glover, 2018 ), and (3) electrical\n",
            "current transport, which controls effective electrical conductivity\n",
            "(e.g., Guo et al., 2018 ). For example, Sain et al. (2016) conclude that\n",
            "effective-medium theory models traditionally used in geophysics failto predict the stress-dependent elastic properties of granular mediabecause they do not account for the heterogeneous distribution ofcontacts and stress heterogeneity observed in simulated grain packs.Yin and Nur (1993) , using experiments on unconsolidated clean Ot-\n",
            "tawa sand mixed with clay, find that permeability is affected by claycontent weight percentage, whereas the percentage is less than a cer-tain clay-content threshold, named critical clay-content. Guo et al.\n",
            "(2018) conclude from finite-element simulations that the effective\n",
            "permittivity of a rock responds differently to changes in pore-size\n",
            "variation, shape variation, distribution, and arrangement. The exam-ples above use the physical experiments and numerical simulation,each with its own advantages and disadvantages.\n",
            "Natural granular media are heterogeneous and pose a challenge for\n",
            "systematically isolating the effects of individual factors (e.g., sphe-ricity, roughness, or sorting) on the physical properties of the granular\n",
            "media. To overcome these limitations, physical experiments using\n",
            "synthetic grain packs have also been used in the past (e.g., Bernal,\n",
            "1959 ,Scott, 1962 ;Finney, 1970 ;Fu and Dekelbab, 2003 ;Knackstedt\n",
            "et al., 2009 ). Rare data sets are available to the scientific community\n",
            "such as the Finney (1970) pack. Although the results are very useful,\n",
            "conducting such experiments to generate realistic grain pack is timeconsuming and expensive. In addition, incorporating different grainshapes in a systematic manner is difficult.\n",
            "Numerical discrete element simulation has been a very useful tool\n",
            "to study granular media. Most often numerical simulations work with\n",
            "Peer-reviewed code related to this article can be found at http://software.seg.org/2019/0006.\n",
            "Manuscript received by the Editor 3 July 2018; revised manuscript received 26 November 2018; published ahead of production 07 February 2019; publish ed\n",
            "online 10 April 2019.\n",
            "1Stanford University, Energy Resources Engineering Department, Stanford, California, USA. E-mail: malibrah@stanford.edu.\n",
            "2Stanford University, Geophysics Department, Stanford, California, USA. E-mail: akerimov@stanford.edu; mavko@stanford.edu.\n",
            "3Stanford University, Energy Resources Engineering Department, Stanford, California, USA and Stanford University, Geophysics Department, Stanf ord,\n",
            "California, USA. E-mail: mukerji@stanford.edu.\n",
            "© 2019 Society of Exploration Geophysicists. All rights reserved.\n",
            "F85GEOPHYSICS, VOL. 84, NO. 3 (MAY-JUNE 2019); P. F85 –F95, 16 FIGS.\n",
            "10.1190/GEO2018-0481.1\n",
            "Downloaded 02/11/22 to 172.58.191.248. Redistribution subject to SEG license or copyright; see Terms of Use at http://library.seg.org/page/policies/terms\n",
            "DOI:10.1190/geo2018-0481.1\n",
            "\n"
          ]
        }
      ]
    },
    {
      "cell_type": "code",
      "source": [
        "# For text_file\n",
        "\n",
        "data = open('Simple_Words.txt')\n",
        "print(data.read()) \n",
        "\n",
        "\n",
        "with open('New_Simple_Words.txt','w') as data_2:\n",
        "    data_2.write('Welcome to Natural Language Processing'\n",
        "                  '\\nIt is one of the most exciting research areas as of today'\n",
        "                  '\\nWe will see how Python can be used to work with text files.'\n",
        "                  )\n",
        "\n",
        "with open('New_Simple_Words.txt','a+') as data_2:\n",
        "  data_2.write('\\nHelp is on the way')\n",
        "  data_2.seek(0)\n",
        "  print(data_2.read())\n",
        "\n"
      ],
      "metadata": {
        "colab": {
          "base_uri": "https://localhost:8080/"
        },
        "id": "1xsjv6XPj3cQ",
        "outputId": "6d504e0a-fa0d-4c1e-a684-7c93e53090dc"
      },
      "execution_count": 28,
      "outputs": [
        {
          "output_type": "stream",
          "name": "stdout",
          "text": [
            "Welcome to Natural Language Processing\n",
            "It is one of the most exciting research areas as of today\n",
            "We will see how Python can be used to work with text files.\n",
            "\n",
            "Welcome to Natural Language Processing\n",
            "It is one of the most exciting research areas as of today\n",
            "We will see how Python can be used to work with text files.\n",
            "Help is on the way\n"
          ]
        }
      ]
    },
    {
      "cell_type": "code",
      "source": [
        "# For .csv \n",
        "import numpy as np \n",
        "import pandas as pd \n",
        "\n",
        "# read the csv \n",
        "data = pd.read_csv('california_housing_train.csv')\n",
        "\n",
        "# display the data frame \n",
        "data.head()\n",
        "\n",
        "# data preprocessing on the dataframe \n",
        "\n",
        "# check columns\n",
        "data.columns\n",
        "\n",
        "# checking for the total stals of the data \n",
        "data.describe()\n",
        "\n",
        "# checking for the total null value \n",
        "data.isnull().sum()\n",
        "\n",
        "# dropping all null values within the dataset \n",
        "data.dropna\n",
        "\n"
      ],
      "metadata": {
        "colab": {
          "base_uri": "https://localhost:8080/"
        },
        "id": "ICOYvzz1oGxZ",
        "outputId": "337ac9d7-8ca7-4c8a-a0cd-08fffc689b97"
      },
      "execution_count": 38,
      "outputs": [
        {
          "output_type": "execute_result",
          "data": {
            "text/plain": [
              "<bound method DataFrame.dropna of        longitude  latitude  housing_median_age  total_rooms  total_bedrooms  \\\n",
              "0        -114.31     34.19                15.0       5612.0          1283.0   \n",
              "1        -114.47     34.40                19.0       7650.0          1901.0   \n",
              "2        -114.56     33.69                17.0        720.0           174.0   \n",
              "3        -114.57     33.64                14.0       1501.0           337.0   \n",
              "4        -114.57     33.57                20.0       1454.0           326.0   \n",
              "...          ...       ...                 ...          ...             ...   \n",
              "16995    -124.26     40.58                52.0       2217.0           394.0   \n",
              "16996    -124.27     40.69                36.0       2349.0           528.0   \n",
              "16997    -124.30     41.84                17.0       2677.0           531.0   \n",
              "16998    -124.30     41.80                19.0       2672.0           552.0   \n",
              "16999    -124.35     40.54                52.0       1820.0           300.0   \n",
              "\n",
              "       population  households  median_income  median_house_value  \n",
              "0          1015.0       472.0         1.4936             66900.0  \n",
              "1          1129.0       463.0         1.8200             80100.0  \n",
              "2           333.0       117.0         1.6509             85700.0  \n",
              "3           515.0       226.0         3.1917             73400.0  \n",
              "4           624.0       262.0         1.9250             65500.0  \n",
              "...           ...         ...            ...                 ...  \n",
              "16995       907.0       369.0         2.3571            111400.0  \n",
              "16996      1194.0       465.0         2.5179             79000.0  \n",
              "16997      1244.0       456.0         3.0313            103600.0  \n",
              "16998      1298.0       478.0         1.9797             85800.0  \n",
              "16999       806.0       270.0         3.0147             94600.0  \n",
              "\n",
              "[17000 rows x 9 columns]>"
            ]
          },
          "metadata": {},
          "execution_count": 38
        }
      ]
    },
    {
      "cell_type": "code",
      "source": [],
      "metadata": {
        "id": "SER2kKUBpZ3b"
      },
      "execution_count": null,
      "outputs": []
    }
  ]
}